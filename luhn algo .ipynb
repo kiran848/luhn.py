{
 "cells": [
  {
   "cell_type": "code",
   "execution_count": 9,
   "id": "55175a4a",
   "metadata": {},
   "outputs": [
    {
     "name": "stdout",
     "output_type": "stream",
     "text": [
      "Enter your credit card number: 4556 7375 7937 2902\n",
      "Valid credit card number\n"
     ]
    }
   ],
   "source": [
    "def is_valid_credit_card(card_number):\n",
    "    card_number = card_number.replace(\" \", \"\")  \n",
    "    # Remove spaces from the input\n",
    "\n",
    "    # Check if the card number contains only digits\n",
    "    if not card_number.isdigit():\n",
    "        return False\n",
    "\n",
    "    total = 0\n",
    "    for i, digit in enumerate(card_number[::-1]):\n",
    "        digit = int(digit)\n",
    "\n",
    "        # Double every second digit\n",
    "        if i % 2 == 1:\n",
    "            digit *= 2\n",
    "            if digit > 9:\n",
    "                digit -= 9\n",
    "\n",
    "        total += digit\n",
    "\n",
    "    # Check if the total sum is divisible by 10\n",
    "    return total % 10 == 0\n",
    "\n",
    "def main():\n",
    "    card_number = input(\"Enter your credit card number: \")\n",
    "    if is_valid_credit_card(card_number):\n",
    "        print(\"Valid credit card number\")\n",
    "    else:\n",
    "        print(\"Invalid credit card number\")\n",
    "\n",
    "if __name__ == \"__main__\":\n",
    "    main()\n"
   ]
  },
  {
   "cell_type": "code",
   "execution_count": null,
   "id": "40756c3a",
   "metadata": {},
   "outputs": [],
   "source": []
  }
 ],
 "metadata": {
  "kernelspec": {
   "display_name": "Python 3 (ipykernel)",
   "language": "python",
   "name": "python3"
  },
  "language_info": {
   "codemirror_mode": {
    "name": "ipython",
    "version": 3
   },
   "file_extension": ".py",
   "mimetype": "text/x-python",
   "name": "python",
   "nbconvert_exporter": "python",
   "pygments_lexer": "ipython3",
   "version": "3.11.5"
  }
 },
 "nbformat": 4,
 "nbformat_minor": 5
}
